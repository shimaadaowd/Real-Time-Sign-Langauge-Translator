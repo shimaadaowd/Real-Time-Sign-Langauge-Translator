{
 "cells": [
  {
   "cell_type": "code",
   "execution_count": null,
   "id": "85818eda",
   "metadata": {},
   "outputs": [],
   "source": [
    "# Importing the Keras libraries and packages\n",
    "#import pretrainded models\n",
    "from keras.applications.vgg16 import VGG16\n",
    "from tensorflow.keras.applications.resnet50 import ResNet50\n",
    "from keras.applications.vgg19 import VGG19\n",
    "#import packages\n",
    "from keras.models import Model\n",
    "from keras.preprocessing import image\n",
    "from tensorflow.keras.layers import Input, Lambda ,Dense ,Flatten ,Dropout\n",
    "import numpy as np\n",
    "import tensorflow as tf\n",
    "import pandas as pd\n",
    "import keras\n",
    "import matplotlib.pyplot as plt\n",
    "%matplotlib inline\n",
    "import os\n",
    "import cv2\n",
    "from tensorflow.keras.preprocessing.image import load_img,img_to_array\n",
    "from sklearn.model_selection import train_test_split\n",
    "from keras.utils.np_utils import to_categorical"
   ]
  },
  {
   "cell_type": "code",
   "execution_count": null,
   "id": "9243601e",
   "metadata": {},
   "outputs": [],
   "source": [
    "def load_image_data(directory):\n",
    "    \n",
    "    images = []\n",
    "    labels = []\n",
    "    for label in sorted(os.listdir(directory)):\n",
    "        for image in os.listdir(directory + \"/\" + label ):\n",
    "            img = cv2.resize(cv2.imread(directory + \"/\" + label+ \"/\" +image), (300, 300))\n",
    "            images.append(img)\n",
    "            labels.append(label)\n",
    "    images = np.array(images)\n",
    "    labels = np.array(labels)\n",
    "    return (images,labels)"
   ]
  },
  {
   "cell_type": "code",
   "execution_count": null,
   "id": "d2f75f51",
   "metadata": {},
   "outputs": [],
   "source": [
    "x_test,y_test=load_image_data('vgg/test')"
   ]
  },
  {
   "cell_type": "code",
   "execution_count": null,
   "id": "5af29841",
   "metadata": {},
   "outputs": [],
   "source": [
    "len(x_test)"
   ]
  },
  {
   "cell_type": "code",
   "execution_count": null,
   "id": "c131ba2f",
   "metadata": {},
   "outputs": [],
   "source": [
    "x_test=x_test.astype(float)/255.0"
   ]
  },
  {
   "cell_type": "code",
   "execution_count": null,
   "id": "03a13fc6",
   "metadata": {},
   "outputs": [],
   "source": [
    "x_test1= np.expand_dims(x_test, axis = 1)"
   ]
  },
  {
   "cell_type": "code",
   "execution_count": null,
   "id": "bb85521f",
   "metadata": {},
   "outputs": [],
   "source": [
    "x_test1[0].shape"
   ]
  },
  {
   "cell_type": "code",
   "execution_count": null,
   "id": "d4e63103",
   "metadata": {},
   "outputs": [],
   "source": [
    "from sklearn.preprocessing import LabelEncoder\n",
    "le = LabelEncoder()\n",
    "y_test_cat = le.fit_transform(y_test)\n",
    "y_test_cat = to_categorical(y_test_cat)\n",
    "y_test_cat[0]"
   ]
  },
  {
   "cell_type": "code",
   "execution_count": null,
   "id": "14618ea7",
   "metadata": {},
   "outputs": [],
   "source": [
    "model= keras.models.load_model(\"model.h5\")"
   ]
  },
  {
   "cell_type": "code",
   "execution_count": null,
   "id": "b365fd0d",
   "metadata": {},
   "outputs": [],
   "source": [
    "import cv2\n",
    "from cvzone.HandTrackingModule import HandDetector\n",
    "import numpy as np\n",
    "import math\n",
    "import time\n",
    "import os"
   ]
  },
  {
   "cell_type": "code",
   "execution_count": null,
   "id": "1cdd9219",
   "metadata": {},
   "outputs": [],
   "source": [
    "labels=list(np.unique(y_test))"
   ]
  },
  {
   "cell_type": "code",
   "execution_count": null,
   "id": "0b45ff37",
   "metadata": {},
   "outputs": [],
   "source": [
    "cap = cv2.VideoCapture(0)\n",
    "detector = HandDetector(maxHands=1)\n",
    "\n",
    " \n",
    "offset = 20\n",
    "imgSize = 300\n",
    "  \n",
    "#labels = [\"Hello\", \"Thumbs up\"]\n",
    " \n",
    "while True:\n",
    "    success, img = cap.read()\n",
    "    imgOutput = img.copy()\n",
    "    hands, img = detector.findHands(img)\n",
    "    if hands:\n",
    "        hand = hands[0]\n",
    "        x, y, w, h = hand['bbox']\n",
    " \n",
    "        imgWhite = np.ones((imgSize, imgSize, 3), np.uint8) * 255\n",
    "        imgCrop = img[y - offset:y + h + offset, x - offset:x + w + offset]\n",
    " \n",
    "        imgCropShape = imgCrop.shape\n",
    " \n",
    "        aspectRatio = h / w\n",
    " \n",
    "        if aspectRatio > 1:\n",
    "            k = imgSize / h\n",
    "            wCal = math.ceil(k * w)\n",
    "            imgResize = cv2.resize(imgCrop, (wCal, imgSize))\n",
    "            imgResizeShape = imgResize.shape\n",
    "            wGap = math.ceil((imgSize - wCal) / 2)\n",
    "            imgWhite[:, wGap:wCal + wGap] = imgResize\n",
    "            imgWhite1=imgWhite.reshape(1,300,300,3)\n",
    "            prediction= model.predict(imgWhite1)\n",
    "            index=np.argmax(prediction)\n",
    "            print(prediction, index)\n",
    " \n",
    "        else:\n",
    "            k = imgSize / w\n",
    "            hCal = math.ceil(k * h)\n",
    "            imgResize = cv2.resize(imgCrop, (imgSize, hCal))\n",
    "            imgResizeShape = imgResize.shape\n",
    "            hGap = math.ceil((imgSize - hCal) / 2)\n",
    "            imgWhite[hGap:hCal + hGap, :] = imgResize\n",
    "            imgWhite1=imgWhite.reshape(1,300,300,3)\n",
    "            prediction= model.predict(imgWhite1)\n",
    "            index=np.argmax(prediction)\n",
    "            #print(prediction, index)\n",
    " \n",
    " \n",
    "        cv2.rectangle(imgOutput, (x - offset, y - offset-50),\n",
    "                      (x - offset+90, y - offset-50+50), (255, 0, 255), cv2.FILLED)\n",
    "        cv2.putText(imgOutput, labels[index], (x, y -26), cv2.FONT_HERSHEY_COMPLEX, 1.7, (255, 255, 255), 2)\n",
    "        cv2.rectangle(imgOutput, (x-offset, y-offset),\n",
    "                      (x + w+offset, y + h+offset), (255, 0, 255), 4)\n",
    " \n",
    " \n",
    "#         cv2.imshow(\"ImageCrop\", imgCrop)\n",
    "#         cv2.imshow(\"ImageWhite\", imgWhite)\n",
    " \n",
    "    cv2.imshow(\"Image\", imgOutput)\n",
    "    cv2.waitKey(1)\n",
    "    if cv2.waitKey(1) & 0xFF == ord('q'):\n",
    "        cap.release()\n",
    "        cv2.destroyAllWindows()"
   ]
  },
  {
   "cell_type": "code",
   "execution_count": null,
   "id": "afa6fd4a",
   "metadata": {},
   "outputs": [],
   "source": [
    "q"
   ]
  }
 ],
 "metadata": {
  "kernelspec": {
   "display_name": "Python 3 (ipykernel)",
   "language": "python",
   "name": "python3"
  },
  "language_info": {
   "codemirror_mode": {
    "name": "ipython",
    "version": 3
   },
   "file_extension": ".py",
   "mimetype": "text/x-python",
   "name": "python",
   "nbconvert_exporter": "python",
   "pygments_lexer": "ipython3",
   "version": "3.10.9"
  }
 },
 "nbformat": 4,
 "nbformat_minor": 5
}
